{
 "cells": [
  {
   "cell_type": "code",
   "execution_count": 5,
   "metadata": {},
   "outputs": [
    {
     "name": "stdout",
     "output_type": "stream",
     "text": [
      "Keys: <KeysViewHDF5 ['model_weights', 'optimizer_weights']>\n",
      "<bound method MappingHDF5.values of <HDF5 file \"weights-improvement-33-1.8014-bigger.hdf5\" (mode r)>>\n"
     ]
    }
   ],
   "source": [
    "import h5py\n",
    "filename = \"weights-improvement-33-1.8014-bigger.hdf5\"\n",
    "\n",
    "with h5py.File(filename, \"r\") as f:\n",
    "    # List all groups\n",
    "    print(\"Keys: %s\" % f.keys())\n",
    "    a_group_key = list(f.keys())[0]\n",
    "    \n",
    "    # Get the data\n",
    "    data = list(f[a_group_key])\n",
    "    print(f.values)"
   ]
  },
  {
   "cell_type": "code",
   "execution_count": 8,
   "metadata": {},
   "outputs": [
    {
     "name": "stdout",
     "output_type": "stream",
     "text": [
      "model_weights\n",
      "optimizer_weights\n"
     ]
    }
   ],
   "source": [
    "import h5py\n",
    "\n",
    "f = h5py.File(filename, \"r\")\n",
    "\n",
    "for key in f.keys():\n",
    "    print(key) #Names of the groups in HDF5 file.\n",
    "    \n"
   ]
  },
  {
   "cell_type": "code",
   "execution_count": 11,
   "metadata": {},
   "outputs": [
    {
     "name": "stdout",
     "output_type": "stream",
     "text": [
      "activation\n",
      "activation_1\n",
      "batch_normalization\n",
      "batch_normalization_1\n",
      "dense\n",
      "dense_1\n",
      "dropout\n",
      "dropout_1\n",
      "lstm\n",
      "lstm_1\n",
      "lstm_2\n"
     ]
    },
    {
     "ename": "NameError",
     "evalue": "name 'some_key_inside_the_group' is not defined",
     "output_type": "error",
     "traceback": [
      "\u001b[1;31m---------------------------------------------------------------------------\u001b[0m",
      "\u001b[1;31mNameError\u001b[0m                                 Traceback (most recent call last)",
      "\u001b[1;32m<ipython-input-11-030b1cd43f9b>\u001b[0m in \u001b[0;36m<module>\u001b[1;34m()\u001b[0m\n\u001b[0;32m      6\u001b[0m     \u001b[0mprint\u001b[0m\u001b[1;33m(\u001b[0m\u001b[0mkey\u001b[0m\u001b[1;33m)\u001b[0m\u001b[1;33m\u001b[0m\u001b[0m\n\u001b[0;32m      7\u001b[0m \u001b[1;33m\u001b[0m\u001b[0m\n\u001b[1;32m----> 8\u001b[1;33m \u001b[0mdata\u001b[0m \u001b[1;33m=\u001b[0m \u001b[0mgroup\u001b[0m\u001b[1;33m[\u001b[0m\u001b[0msome_key_inside_the_group\u001b[0m\u001b[1;33m]\u001b[0m\u001b[1;33m[\u001b[0m\u001b[1;33m(\u001b[0m\u001b[1;33m)\u001b[0m\u001b[1;33m]\u001b[0m\u001b[1;33m\u001b[0m\u001b[0m\n\u001b[0m\u001b[0;32m      9\u001b[0m \u001b[1;31m#Do whatever you want with data\u001b[0m\u001b[1;33m\u001b[0m\u001b[1;33m\u001b[0m\u001b[0m\n\u001b[0;32m     10\u001b[0m \u001b[1;33m\u001b[0m\u001b[0m\n",
      "\u001b[1;31mNameError\u001b[0m: name 'some_key_inside_the_group' is not defined"
     ]
    }
   ],
   "source": [
    "#Get the HDF5 group\n",
    "group = f['model_weights']\n",
    "\n",
    "#Checkout what keys are inside that group.\n",
    "for key in group.keys():\n",
    "    print(key)\n",
    "\n",
    "\n",
    "#Do whatever you want with data\n",
    "\n",
    "#After you are done\n",
    "f.close()"
   ]
  },
  {
   "cell_type": "code",
   "execution_count": 15,
   "metadata": {},
   "outputs": [],
   "source": [
    "data = group['batch_normalization_1']"
   ]
  },
  {
   "cell_type": "code",
   "execution_count": 16,
   "metadata": {},
   "outputs": [
    {
     "name": "stdout",
     "output_type": "stream",
     "text": [
      "<HDF5 group \"/model_weights/batch_normalization_1\" (1 members)>\n"
     ]
    }
   ],
   "source": [
    "print(data)"
   ]
  },
  {
   "cell_type": "code",
   "execution_count": 17,
   "metadata": {},
   "outputs": [],
   "source": [
    "import glob\n",
    "import pickle\n",
    "import numpy\n",
    "from music21 import converter, instrument, note, chord"
   ]
  },
  {
   "cell_type": "code",
   "execution_count": 96,
   "metadata": {},
   "outputs": [],
   "source": [
    "midi = converter.parse(\"./midi_songs/try.mid\")"
   ]
  },
  {
   "cell_type": "code",
   "execution_count": 97,
   "metadata": {},
   "outputs": [],
   "source": [
    "s2 = instrument.partitionByInstrument(midi)"
   ]
  },
  {
   "cell_type": "code",
   "execution_count": 98,
   "metadata": {},
   "outputs": [
    {
     "data": {
      "text/plain": [
       "<music21.stream.Score 0x12a0d3d9400>"
      ]
     },
     "execution_count": 98,
     "metadata": {},
     "output_type": "execute_result"
    }
   ],
   "source": [
    "s2"
   ]
  },
  {
   "cell_type": "code",
   "execution_count": 104,
   "metadata": {},
   "outputs": [],
   "source": [
    "notes_to_parse = midi.parts[0].recurse() "
   ]
  },
  {
   "cell_type": "code",
   "execution_count": 105,
   "metadata": {},
   "outputs": [
    {
     "data": {
      "text/plain": [
       "<music21.stream.iterator.RecursiveIterator for Part:0x12a0d3cf048 @:0>"
      ]
     },
     "execution_count": 105,
     "metadata": {},
     "output_type": "execute_result"
    }
   ],
   "source": [
    "notes_to_parse"
   ]
  },
  {
   "cell_type": "code",
   "execution_count": 106,
   "metadata": {},
   "outputs": [
    {
     "data": {
      "text/plain": [
       "<music21.stream.Part>"
      ]
     },
     "execution_count": 106,
     "metadata": {},
     "output_type": "execute_result"
    }
   ],
   "source": [
    "s2.parts[0]"
   ]
  },
  {
   "cell_type": "code",
   "execution_count": 132,
   "metadata": {},
   "outputs": [],
   "source": [
    "notes = []\n",
    "for element in notes_to_parse:\n",
    "    #print(element)\n",
    "    if isinstance(element, note.Note):\n",
    "        #print(element.quarterLength)\n",
    "        notes.append(str(element.pitch)+\"^\"+str(element.quarterLength))\n",
    "        \n",
    "    elif isinstance(element, chord.Chord):\n",
    "        notes.append('.'.join(str(n) for n in element.normalOrder)+\"^\"+str(element.quarterLength))\n",
    "        #print('.'.join(str(n) for n in element.normalOrder))\n",
    "    #elif isinstance(element, note.Rest):\n",
    "        #print(element)\n",
    "        "
   ]
  },
  {
   "cell_type": "code",
   "execution_count": 133,
   "metadata": {},
   "outputs": [
    {
     "data": {
      "text/plain": [
       "['9.1^1.0',\n",
       " '9.1^1.0',\n",
       " '11.2^1.0',\n",
       " 'A2^0.5',\n",
       " 'A2^0.5',\n",
       " 'A2^0.5',\n",
       " '9.11.2^0.5',\n",
       " '9.1^1.0',\n",
       " '11.2^2.0',\n",
       " 'G#2^0.5',\n",
       " 'E2^0.5',\n",
       " '11.2^0.75',\n",
       " 'A3^0.25',\n",
       " '9.1^1.0',\n",
       " '9.2^2.0',\n",
       " '2.4.8^1.0',\n",
       " 'C#4^1.75',\n",
       " 'D4^0.25',\n",
       " 'E4^0.5',\n",
       " 'A4^0.5',\n",
       " '4.8^2.0',\n",
       " '4.9^1.0',\n",
       " '4.8.11^1.0',\n",
       " 'E2^1.0',\n",
       " 'E3^0.75',\n",
       " 'G#3^0.25',\n",
       " 'B3^0.5',\n",
       " 'B3^0.5',\n",
       " 'B3^0.5',\n",
       " 'B3^1/3',\n",
       " 'D4^0.25',\n",
       " 'B3^0.25',\n",
       " '4.8.11^1.0',\n",
       " 'A3^0.75',\n",
       " 'C#4^0.25',\n",
       " 'E4^0.5',\n",
       " 'E4^0.5',\n",
       " 'E4^0.5',\n",
       " 'E4^0.5',\n",
       " 'F#4^0.75',\n",
       " 'E4^0.25',\n",
       " '9.1.4^1.0',\n",
       " 'A2^0.25',\n",
       " 'C#3^0.25',\n",
       " 'E3^2.5',\n",
       " 'F#2^0.25',\n",
       " 'A2^0.25',\n",
       " 'C#3^2.5',\n",
       " 'C#3^1.0',\n",
       " '11.2^0.5',\n",
       " 'A4^1.0',\n",
       " '2.8^0.5',\n",
       " '2.8^2.0',\n",
       " '9.1^1.0',\n",
       " 'A2^0.5',\n",
       " 'A2^0.5',\n",
       " 'A2^0.5',\n",
       " 'A2^0.5',\n",
       " 'A2^0.5',\n",
       " 'A2^0.5',\n",
       " '1.4^1.5',\n",
       " 'E2^0.5',\n",
       " 'F#2^0.5',\n",
       " 'G#2^0.5',\n",
       " 'F#2^0.5',\n",
       " '11.2^1.0',\n",
       " 'A2^1.0',\n",
       " 'F#3^1.0',\n",
       " 'F3^1.0',\n",
       " 'E3^1.5',\n",
       " 'B3^0.5',\n",
       " 'C#4^0.5',\n",
       " 'D4^0.5',\n",
       " 'B3^0.5',\n",
       " 'C#4^0.5',\n",
       " 'A3^0.5',\n",
       " '9.0^0.75',\n",
       " '2.8^1.0',\n",
       " 'A3^0.25',\n",
       " '9.1^1.0',\n",
       " '8.11^1.0',\n",
       " 'F#3^0.25',\n",
       " '6.9^1.0',\n",
       " '5.8^1.0',\n",
       " '4.9^0.5',\n",
       " 'A4^1.0',\n",
       " '0.3^0.5',\n",
       " 'C#4^0.5',\n",
       " 'A3^1.0',\n",
       " 'E3^1.0',\n",
       " 'A2^2.0',\n",
       " 'E-3^1.0',\n",
       " 'E3^1.0']"
      ]
     },
     "execution_count": 133,
     "metadata": {},
     "output_type": "execute_result"
    }
   ],
   "source": [
    "notes"
   ]
  },
  {
   "cell_type": "code",
   "execution_count": 134,
   "metadata": {},
   "outputs": [],
   "source": [
    "pitchnames = sorted(set(item for item in notes))"
   ]
  },
  {
   "cell_type": "code",
   "execution_count": 136,
   "metadata": {},
   "outputs": [
    {
     "data": {
      "text/plain": [
       "['0.3^0.5',\n",
       " '1.4^1.5',\n",
       " '11.2^0.5',\n",
       " '11.2^0.75',\n",
       " '11.2^1.0',\n",
       " '11.2^2.0',\n",
       " '2.4.8^1.0',\n",
       " '2.8^0.5',\n",
       " '2.8^1.0',\n",
       " '2.8^2.0',\n",
       " '4.8.11^1.0',\n",
       " '4.8^2.0',\n",
       " '4.9^0.5',\n",
       " '4.9^1.0',\n",
       " '5.8^1.0',\n",
       " '6.9^1.0',\n",
       " '8.11^1.0',\n",
       " '9.0^0.75',\n",
       " '9.1.4^1.0',\n",
       " '9.11.2^0.5',\n",
       " '9.1^1.0',\n",
       " '9.2^2.0',\n",
       " 'A2^0.25',\n",
       " 'A2^0.5',\n",
       " 'A2^1.0',\n",
       " 'A2^2.0',\n",
       " 'A3^0.25',\n",
       " 'A3^0.5',\n",
       " 'A3^0.75',\n",
       " 'A3^1.0',\n",
       " 'A4^0.5',\n",
       " 'A4^1.0',\n",
       " 'B3^0.25',\n",
       " 'B3^0.5',\n",
       " 'B3^1/3',\n",
       " 'C#3^0.25',\n",
       " 'C#3^1.0',\n",
       " 'C#3^2.5',\n",
       " 'C#4^0.25',\n",
       " 'C#4^0.5',\n",
       " 'C#4^1.75',\n",
       " 'D4^0.25',\n",
       " 'D4^0.5',\n",
       " 'E-3^1.0',\n",
       " 'E2^0.5',\n",
       " 'E2^1.0',\n",
       " 'E3^0.75',\n",
       " 'E3^1.0',\n",
       " 'E3^1.5',\n",
       " 'E3^2.5',\n",
       " 'E4^0.25',\n",
       " 'E4^0.5',\n",
       " 'F#2^0.25',\n",
       " 'F#2^0.5',\n",
       " 'F#3^0.25',\n",
       " 'F#3^1.0',\n",
       " 'F#4^0.75',\n",
       " 'F3^1.0',\n",
       " 'G#2^0.5',\n",
       " 'G#3^0.25']"
      ]
     },
     "execution_count": 136,
     "metadata": {},
     "output_type": "execute_result"
    }
   ],
   "source": [
    "pitchnames"
   ]
  },
  {
   "cell_type": "code",
   "execution_count": 142,
   "metadata": {},
   "outputs": [],
   "source": [
    "split = pitchnames[10].split(\"^\")"
   ]
  },
  {
   "cell_type": "code",
   "execution_count": 145,
   "metadata": {},
   "outputs": [
    {
     "data": {
      "text/plain": [
       "1.0"
      ]
     },
     "execution_count": 145,
     "metadata": {},
     "output_type": "execute_result"
    }
   ],
   "source": [
    "float(split[1])"
   ]
  },
  {
   "cell_type": "code",
   "execution_count": null,
   "metadata": {},
   "outputs": [],
   "source": []
  }
 ],
 "metadata": {
  "kernelspec": {
   "display_name": "Python 3",
   "language": "python",
   "name": "python3"
  },
  "language_info": {
   "codemirror_mode": {
    "name": "ipython",
    "version": 3
   },
   "file_extension": ".py",
   "mimetype": "text/x-python",
   "name": "python",
   "nbconvert_exporter": "python",
   "pygments_lexer": "ipython3",
   "version": "3.6.4"
  }
 },
 "nbformat": 4,
 "nbformat_minor": 2
}
